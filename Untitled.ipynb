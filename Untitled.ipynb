{
 "cells": [
  {
   "cell_type": "code",
   "execution_count": 9,
   "metadata": {},
   "outputs": [
    {
     "name": "stdout",
     "output_type": "stream",
     "text": [
      "[[1], [1, 1], [1, 2, 1], [1, 3, 3, 1], [1, 4, 6, 4, 1]]\n"
     ]
    }
   ],
   "source": [
    "class newNode:\n",
    "\n",
    "    # Construct to create a newNode\n",
    "    def __init__(self, key):\n",
    "        self.key = key\n",
    "        self.left = None\n",
    "        self.right = None\n",
    "        self.pos1 = None\n",
    "        self.pos2 = None\n",
    "        self.pos3 = None\n",
    "        self.pos4 = None\n",
    "        self.pos5 = None\n",
    "        self.pos6 = None\n",
    "        self.used = False\n",
    "\n",
    "\n",
    "\n",
    "# This function prints all paths\n",
    "# that have sum k\n",
    "def printPathsUtil(curr_node, sum,\n",
    "                   sum_so_far, path):\n",
    "    # empty node\n",
    "    if (not curr_node) or curr_node.used is True:\n",
    "        return\n",
    "    sum_so_far += curr_node.key\n",
    "\n",
    "    # add current node to the path\n",
    "    path.append(curr_node.key)\n",
    "\n",
    "    # prthe required path\n",
    "    if (sum_so_far == sum):\n",
    "\n",
    "        print(\"Path found:\", end=\" \")\n",
    "        for i in range(len(path)):\n",
    "            print(path[i], end=\" \")\n",
    "\n",
    "        print()\n",
    "\n",
    "        # if left child exists\n",
    "    if (curr_node.pos1 != None) and curr_node.used is False:\n",
    "        printPathsUtil(curr_node.pos1, sum,\n",
    "                       sum_so_far, path)\n",
    "        curr_node.used = True\n",
    "\n",
    "    if (curr_node.pos2 != None) and curr_node.used is False:\n",
    "        printPathsUtil(curr_node.pos2, sum,\n",
    "                       sum_so_far, path)\n",
    "        curr_node.used = True\n",
    "\n",
    "    if (curr_node.pos3 != None) and curr_node.used is False:\n",
    "        printPathsUtil(curr_node.pos3, sum,\n",
    "                       sum_so_far, path)\n",
    "        curr_node.used = True\n",
    "\n",
    "    if (curr_node.pos4 != None) and curr_node.used is False:\n",
    "        printPathsUtil(curr_node.pos4, sum,\n",
    "                       sum_so_far, path)\n",
    "        curr_node.used = True\n",
    "\n",
    "    if (curr_node.pos5 != None) and curr_node.used is False:\n",
    "        printPathsUtil(curr_node.pos5, sum,\n",
    "                       sum_so_far, path)\n",
    "        curr_node.used = True\n",
    "\n",
    "    if (curr_node.pos6 != None) and curr_node.used is False:\n",
    "        printPathsUtil(curr_node.pos6, sum,\n",
    "                       sum_so_far, path)\n",
    "        curr_node.used = True\n",
    "\n",
    "    # if right child exists\n",
    "    #if (curr_node.right != None):\n",
    "        #printPathsUtil(curr_node.right, sum,\n",
    "                       #sum_so_far, path)\n",
    "\n",
    "        # Remove the current element\n",
    "    # from the path\n",
    "    path.pop(-1)\n",
    "\n",
    "\n",
    "def getPascal(n):\n",
    "    main_arr = []\n",
    "    for line in range(1, n + 1):\n",
    "        temp_arr = []\n",
    "        C = 1;  # used to represent C(line, i)\n",
    "        for i in range(1, line + 1):\n",
    "            # The first value in a\n",
    "            # line is always 1\n",
    "            #print(C, end=\" \");\n",
    "            temp_arr.append(C)\n",
    "            C = int(C * (line - i) / i);\n",
    "\n",
    "        #print(\"\");\n",
    "        main_arr.append(temp_arr)\n",
    "\n",
    "\n",
    "    return main_arr\n",
    "    # Driver code\n",
    "\n",
    "pascal_val = 5\n",
    "test = getPascal(pascal_val)\n",
    "print(test)\n",
    "\n",
    "root = newNode(1)\n",
    "root.pos5 = newNode(1)\n",
    "root.pos6 = newNode(1)\n",
    "for i in range(1,len(test)):\n",
    "    for j in range(1,len(test[i])):\n",
    "        \n",
    "        #print(i,j)\n",
    "        #root = newNode(test[i][j])\n",
    "        try:\n",
    "            root.pos1 = newNode(test[i-1][j-1])\n",
    "        except:\n",
    "            continue\n",
    "        try:\n",
    "            root.pos2 = newNode(test[i-1][j])\n",
    "        except:\n",
    "            continue\n",
    "        try:\n",
    "            root.pos3 = newNode(test[i][j-1])\n",
    "        except:\n",
    "            continue\n",
    "        try:\n",
    "            root.pos4 = newNode(test[i][j+1])\n",
    "        except:\n",
    "            continue\n",
    "        try:\n",
    "            root.pos5 = newNode(test[i+1][j])\n",
    "        except:\n",
    "            continue\n",
    "        try:\n",
    "            root.pos6 = newNode(test[i+1][j+1])\n",
    "        except:\n",
    "            continue\n",
    "\n",
    "\n",
    "\n",
    "\n",
    "# A wrapper over printKPathUtil()\n",
    "def printPaths(root, sum):\n",
    "    path = []\n",
    "    printPathsUtil(root, sum, 0, path)\n",
    "\n",
    "\n",
    "\n",
    "\n",
    "    \"\"\" 10  \n",
    "    /     \\  \n",
    "    28     13  \n",
    "        /     \\  \n",
    "        14     15  \n",
    "        / \\     / \\  \n",
    "    21 22 23 24\n",
    "    root = newNode(10)\n",
    "    root.left = newNode(28)\n",
    "    root.right = newNode(13)\n",
    "\n",
    "    root.right.left = newNode(14)\n",
    "    root.right.right = newNode(15)\n",
    "\n",
    "    root.right.left.left = newNode(21)\n",
    "    root.right.left.right = newNode(22)\n",
    "    root.right.right.left = newNode(23)\n",
    "    root.right.right.right = newNode(24)\n",
    "    \n",
    "    sum = 38\n",
    "\n",
    "    printPaths(root, sum)\n",
    "    \"\"\"\n",
    "\n",
    "printPaths(root,5)\n",
    "#num_test_case = input()\n",
    "\n",
    "#for test_case in range(int(num_test_case)):\n",
    "    #row = input()"
   ]
  },
  {
   "cell_type": "code",
   "execution_count": 11,
   "metadata": {},
   "outputs": [
    {
     "name": "stdout",
     "output_type": "stream",
     "text": [
      "1\n",
      "6\n",
      "4\n"
     ]
    }
   ],
   "source": [
    "print(root.key)\n",
    "print(root.pos5.key)\n",
    "print(root.pos6.key)"
   ]
  },
  {
   "cell_type": "code",
   "execution_count": 1,
   "metadata": {},
   "outputs": [
    {
     "data": {
      "text/plain": [
       "1"
      ]
     },
     "execution_count": 1,
     "metadata": {},
     "output_type": "execute_result"
    }
   ],
   "source": [
    "5//5"
   ]
  },
  {
   "cell_type": "code",
   "execution_count": 4,
   "metadata": {},
   "outputs": [
    {
     "data": {
      "text/plain": [
       "1"
      ]
     },
     "execution_count": 4,
     "metadata": {},
     "output_type": "execute_result"
    }
   ],
   "source": [
    "1%5"
   ]
  },
  {
   "cell_type": "code",
   "execution_count": null,
   "metadata": {},
   "outputs": [],
   "source": []
  }
 ],
 "metadata": {
  "kernelspec": {
   "display_name": "Python 3",
   "language": "python",
   "name": "python3"
  },
  "language_info": {
   "codemirror_mode": {
    "name": "ipython",
    "version": 3
   },
   "file_extension": ".py",
   "mimetype": "text/x-python",
   "name": "python",
   "nbconvert_exporter": "python",
   "pygments_lexer": "ipython3",
   "version": "3.7.3"
  }
 },
 "nbformat": 4,
 "nbformat_minor": 2
}
